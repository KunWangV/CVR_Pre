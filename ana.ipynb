{
 "cells": [
  {
   "cell_type": "code",
   "execution_count": 1,
   "metadata": {
    "collapsed": true
   },
   "outputs": [],
   "source": [
    "import pandas as pd\n",
    "import numpy as np\n",
    "import matplotlib.pyplot as plt\n",
    "import os\n",
    "%matplotlib inline"
   ]
  },
  {
   "cell_type": "code",
   "execution_count": 2,
   "metadata": {
    "collapsed": true
   },
   "outputs": [],
   "source": [
    "filenames = ['ad.csv',\n",
    "'app_categories.csv',\n",
    "'position.csv',\n",
    "'test.csv',\n",
    "'train.csv',\n",
    "'user_app_actions.csv',\n",
    "'user.csv',\n",
    "'user_installedapps.csv',\n",
    "]"
   ]
  },
  {
   "cell_type": "code",
   "execution_count": 10,
   "metadata": {},
   "outputs": [
    {
     "name": "stdout",
     "output_type": "stream",
     "text": [
      "ad.csv\n",
      "['creativeID' 'adID' 'camgaignID' 'advertiserID' 'appID' 'appPlatform'] (51754, 6)\n",
      "   creativeID   adID  camgaignID  advertiserID  appID  appPlatform\n",
      "0       28934  29217        3346           103    369            1\n",
      "=====================================================\n",
      "column: creativeID           unique size:      51754 max:      51754 min:          1\n",
      "column: adID                 unique size:      31467 max:      31467 min:          1\n",
      "column: camgaignID           unique size:       6940 max:       6940 min:          1\n",
      "column: advertiserID         unique size:        659 max:        659 min:          1\n",
      "column: appID                unique size:        479 max:        479 min:          1\n",
      "column: appPlatform          unique size:          2 max:          2 min:          1\n",
      "=====================================================\n",
      "app_categories.csv\n",
      "['appID' 'appCategory'] (433269, 2)\n",
      "   appID  appCategory\n",
      "0      1          407\n",
      "=====================================================\n",
      "column: appID                unique size:     433269 max:     433269 min:          1\n",
      "column: appCategory          unique size:         31 max:        503 min:          0\n",
      "=====================================================\n",
      "position.csv\n",
      "['positionID' 'sitesetID' 'positionType'] (21922, 3)\n",
      "   positionID  sitesetID  positionType\n",
      "0        6315          0             1\n",
      "=====================================================\n",
      "column: positionID           unique size:      21922 max:      21922 min:          1\n",
      "column: sitesetID            unique size:          3 max:          2 min:          0\n",
      "column: positionType         unique size:          6 max:          5 min:          0\n",
      "=====================================================\n",
      "test.csv\n",
      "['instanceID' 'label' 'clickTime' 'creativeID' 'userID' 'positionID'\n",
      " 'connectionType' 'telecomsOperator'] (3321748, 8)\n",
      "   instanceID  label  clickTime  creativeID    userID  positionID  \\\n",
      "0           1     -1   31000000       19553  11856541        4522   \n",
      "\n",
      "   connectionType  telecomsOperator  \n",
      "0               1                 1  \n",
      "=====================================================\n",
      "column: instanceID           unique size:    3321748 max:    3321748 min:          1\n",
      "column: label                unique size:          1 max:         -1 min:         -1\n",
      "column: clickTime            unique size:      86391 max:   31235959 min:   31000000\n",
      "column: creativeID           unique size:      17169 max:      51753 min:          4\n",
      "column: userID               unique size:    2496619 max:   20062200 min:          3\n",
      "column: positionID           unique size:      12902 max:      21922 min:          2\n",
      "column: connectionType       unique size:          5 max:          4 min:          0\n",
      "column: telecomsOperator     unique size:          4 max:          3 min:          0\n",
      "=====================================================\n",
      "train.csv\n",
      "['label' 'clickTime' 'conversionTime' 'creativeID' 'userID' 'positionID'\n",
      " 'connectionType' 'telecomsOperator'] (37912916, 8)\n",
      "   label  clickTime  conversionTime  creativeID   userID  positionID  \\\n",
      "0      0   16231202             NaN       42905  3143312        3322   \n",
      "\n",
      "   connectionType  telecomsOperator  \n",
      "0               1                 3  \n",
      "=====================================================\n",
      "column: label                unique size:          2 max:          1 min:          0\n",
      "column: clickTime            unique size:    1209270 max:   30235959 min:   16231202\n",
      "column: conversionTime       unique size:     586367 max: 30235959.0 min: 17000129.0\n",
      "column: creativeID           unique size:      48836 max:      51754 min:          1\n",
      "column: userID               unique size:   18903884 max:   20062201 min:          1\n",
      "column: positionID           unique size:      21488 max:      21922 min:          1\n",
      "column: connectionType       unique size:          5 max:          4 min:          0\n",
      "column: telecomsOperator     unique size:          4 max:          3 min:          0\n",
      "=====================================================\n",
      "user_app_actions.csv\n",
      "['userID' 'installTime' 'appID'] (38819295, 3)\n",
      "   userID  installTime  appID\n",
      "0       1     18203243    933\n",
      "=====================================================\n",
      "column: userID               unique size:    5224685 max:   20062201 min:          1\n",
      "column: installTime          unique size:    2223792 max:   30235959 min:    1000000\n",
      "column: appID                unique size:     210924 max:     433267 min:        354\n",
      "=====================================================\n",
      "user.csv\n",
      "['userID' 'age' 'gender' 'education' 'marriageStatus' 'haveBaby' 'hometown'\n",
      " 'residence'] (20062201, 8)\n",
      "   userID  age  gender  education  marriageStatus  haveBaby  hometown  \\\n",
      "0       1   42       1          0               2         0       512   \n",
      "\n",
      "   residence  \n",
      "0        503  \n",
      "=====================================================\n",
      "column: userID               unique size:   20062201 max:   20062201 min:          1\n",
      "column: age                  unique size:         81 max:         80 min:          0\n",
      "column: gender               unique size:          3 max:          2 min:          0\n",
      "column: education            unique size:          8 max:          7 min:          0\n",
      "column: marriageStatus       unique size:          4 max:          3 min:          0\n",
      "column: haveBaby             unique size:          7 max:          6 min:          0\n",
      "column: hometown             unique size:        365 max:       3401 min:          0\n",
      "column: residence            unique size:        405 max:       3401 min:          0\n",
      "=====================================================\n",
      "user_installedapps.csv\n",
      "['userID' 'appID'] (575832463, 2)\n",
      "   userID  appID\n",
      "0       1    357\n",
      "=====================================================\n",
      "column: userID               unique size:    9850468 max:   20062197 min:          1\n",
      "column: appID                unique size:     377296 max:     433269 min:        354\n",
      "=====================================================\n"
     ]
    }
   ],
   "source": [
    "for filename in filenames:\n",
    "    print filename\n",
    "    df = pd.read_csv('../{}'.format(filename))\n",
    "    print df.columns.values, df.shape\n",
    "    print df.head(1)\n",
    "    \n",
    "    print '====================================================='\n",
    "    for c in df.columns.values:\n",
    "        print 'column: {:20} unique size: {:10} max: {:10} min: {:10}'.format(c, df[c].unique().size, df[c].max(), df[c].min())\n",
    "    \n",
    "    print '====================================================='"
   ]
  },
  {
   "cell_type": "code",
   "execution_count": 12,
   "metadata": {
    "collapsed": true
   },
   "outputs": [],
   "source": [
    "df_train = pd.read_csv('../train.csv')"
   ]
  },
  {
   "cell_type": "code",
   "execution_count": 13,
   "metadata": {},
   "outputs": [
    {
     "data": {
      "text/plain": [
       "(37912916, 8)"
      ]
     },
     "execution_count": 13,
     "metadata": {},
     "output_type": "execute_result"
    }
   ],
   "source": [
    "df_train.shape"
   ]
  },
  {
   "cell_type": "code",
   "execution_count": 15,
   "metadata": {},
   "outputs": [
    {
     "data": {
      "text/plain": [
       "1017071"
      ]
     },
     "execution_count": 15,
     "metadata": {},
     "output_type": "execute_result"
    }
   ],
   "source": [
    "df_train.label.sum()"
   ]
  },
  {
   "cell_type": "code",
   "execution_count": 17,
   "metadata": {},
   "outputs": [
    {
     "data": {
      "text/plain": [
       "0.026826504191869598"
      ]
     },
     "execution_count": 17,
     "metadata": {},
     "output_type": "execute_result"
    }
   ],
   "source": [
    "float(df_train.label.sum())/df_train.shape[0]"
   ]
  },
  {
   "cell_type": "code",
   "execution_count": 4,
   "metadata": {},
   "outputs": [],
   "source": [
    "df_train = pd.read_csv('../train.csv')"
   ]
  },
  {
   "cell_type": "code",
   "execution_count": 6,
   "metadata": {},
   "outputs": [
    {
     "name": "stdout",
     "output_type": "stream",
     "text": [
      "(37912916, 8)\n",
      "(23012211, 8)\n"
     ]
    }
   ],
   "source": [
    "print df_train.shape\n",
    "df_train_week  = df_train.loc[df_train['clickTime']//1000000>=23,:]\n",
    "print df_train_week.shape\n",
    "df_train_week.to_hdf('train_week.hdf5', key='train_weeek')"
   ]
  },
  {
   "cell_type": "code",
   "execution_count": 15,
   "metadata": {},
   "outputs": [
    {
     "name": "stdout",
     "output_type": "stream",
     "text": [
      "(37912916, 8)\n",
      "(12409999, 8)\n"
     ]
    }
   ],
   "source": [
    "print df_train.shape\n",
    "df_train_week  = df_train.loc[df_train['clickTime']//1000000>=27,:]\n",
    "print df_train_week.shape\n",
    "# df_train_week.to_hdf('train_days27.hdf5', key='train_weeek')\n",
    "df_train_week.to_csv('../train_days27.csv', index=False)"
   ]
  },
  {
   "cell_type": "code",
   "execution_count": 11,
   "metadata": {},
   "outputs": [],
   "source": [
    "def csv2hdf5(infile, key, outfile):\n",
    "    df = pd.read_csv(infile)\n",
    "    print df.shape\n",
    "    df.to_hdf(outfile, key=key)"
   ]
  },
  {
   "cell_type": "code",
   "execution_count": 10,
   "metadata": {
    "collapsed": true
   },
   "outputs": [],
   "source": [
    "csv2hdf5('../test.csv','test','../test.hdf5')"
   ]
  },
  {
   "cell_type": "code",
   "execution_count": 12,
   "metadata": {
    "collapsed": true
   },
   "outputs": [],
   "source": [
    "df = pd.read_hdf('../test.hdf5')"
   ]
  },
  {
   "cell_type": "code",
   "execution_count": 13,
   "metadata": {},
   "outputs": [
    {
     "name": "stdout",
     "output_type": "stream",
     "text": [
      "(3321748, 8)\n"
     ]
    }
   ],
   "source": [
    "print df.shape"
   ]
  },
  {
   "cell_type": "code",
   "execution_count": null,
   "metadata": {
    "collapsed": true
   },
   "outputs": [],
   "source": [
    ""
   ]
  }
 ],
 "metadata": {
  "kernelspec": {
   "display_name": "Python 2",
   "language": "python",
   "name": "python2"
  },
  "language_info": {
   "codemirror_mode": {
    "name": "ipython",
    "version": 2.0
   },
   "file_extension": ".py",
   "mimetype": "text/x-python",
   "name": "python",
   "nbconvert_exporter": "python",
   "pygments_lexer": "ipython2",
   "version": "2.7.12"
  }
 },
 "nbformat": 4,
 "nbformat_minor": 0
}